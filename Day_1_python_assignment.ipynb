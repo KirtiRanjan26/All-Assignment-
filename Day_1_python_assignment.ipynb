{
  "nbformat": 4,
  "nbformat_minor": 0,
  "metadata": {
    "colab": {
      "provenance": [],
      "toc_visible": true,
      "authorship_tag": "ABX9TyOWgrQZAhgg//tTz4BYvzcW",
      "include_colab_link": true
    },
    "kernelspec": {
      "name": "python3",
      "display_name": "Python 3"
    },
    "language_info": {
      "name": "python"
    }
  },
  "cells": [
    {
      "cell_type": "markdown",
      "metadata": {
        "id": "view-in-github",
        "colab_type": "text"
      },
      "source": [
        "<a href=\"https://colab.research.google.com/github/KirtiRanjan26/All-Assignment-/blob/main/Day_1_python_assignment.ipynb\" target=\"_parent\"><img src=\"https://colab.research.google.com/assets/colab-badge.svg\" alt=\"Open In Colab\"/></a>"
      ]
    },
    {
      "cell_type": "markdown",
      "source": [
        "# python Basic"
      ],
      "metadata": {
        "id": "YLeBuJqrV6oo"
      }
    },
    {
      "cell_type": "markdown",
      "source": [
        "##syntex And Symentic"
      ],
      "metadata": {
        "id": "_8OAWZrAWGMP"
      }
    },
    {
      "cell_type": "markdown",
      "source": [
        "###**Question 1:** Write a Python program to print \"Hello, World!\"."
      ],
      "metadata": {
        "id": "8argFTvFWONv"
      }
    },
    {
      "cell_type": "code",
      "source": [
        "print(\"Hello world\")"
      ],
      "metadata": {
        "colab": {
          "base_uri": "https://localhost:8080/"
        },
        "id": "s160X3u3WCdw",
        "outputId": "0bac7937-8d0e-478c-c748-ee39c3bf7fbd"
      },
      "execution_count": null,
      "outputs": [
        {
          "output_type": "stream",
          "name": "stdout",
          "text": [
            "Hello world\n"
          ]
        }
      ]
    },
    {
      "cell_type": "markdown",
      "source": [
        "###**Question 2:** Write a Python program that takes a user input and prints it."
      ],
      "metadata": {
        "id": "sHDU27ZoWxdP"
      }
    },
    {
      "cell_type": "code",
      "source": [
        "name=input(\"Enter your name:\")\n",
        "print(name)"
      ],
      "metadata": {
        "colab": {
          "base_uri": "https://localhost:8080/"
        },
        "id": "yyB27ScEW0HI",
        "outputId": "168048a7-dc0a-415b-9e2c-2052b30e3966"
      },
      "execution_count": null,
      "outputs": [
        {
          "output_type": "stream",
          "name": "stdout",
          "text": [
            "Enter your name:Kirti Ranjan Ghadei\n",
            "Kirti Ranjan Ghadei\n"
          ]
        }
      ]
    },
    {
      "cell_type": "markdown",
      "source": [
        "###**Question 3:** Write a Python program to check if a number is positive, negative, or zero."
      ],
      "metadata": {
        "id": "n-tz75qNXXOw"
      }
    },
    {
      "cell_type": "markdown",
      "source": [],
      "metadata": {
        "id": "AyJ7luOm2kvP"
      }
    },
    {
      "cell_type": "code",
      "source": [
        "num=int(input(\"enter a number:\"))\n",
        "if (num>0):\n",
        "  print(\"number is positive\")\n",
        "elif (num<0):\n",
        "  print(\"number is negative\")\n",
        "else:\n",
        "  print(\"number is equal to zero\")"
      ],
      "metadata": {
        "colab": {
          "base_uri": "https://localhost:8080/"
        },
        "id": "Pl1Q1MMhXfVn",
        "outputId": "51de0c12-3675-4c1c-97c9-1cc45a990d97"
      },
      "execution_count": null,
      "outputs": [
        {
          "output_type": "stream",
          "name": "stdout",
          "text": [
            "enter a number:-23\n",
            "number is negative\n"
          ]
        }
      ]
    },
    {
      "cell_type": "markdown",
      "source": [
        "###**Question 4:** Write a Python program to find the largest of three numbers."
      ],
      "metadata": {
        "id": "44ab1jGRYSPw"
      }
    },
    {
      "cell_type": "code",
      "source": [
        "num1=int(input(\"enter 1st number:\"))\n",
        "num2=int(input(\"enter 2nd number:\"))\n",
        "num3=int(input(\"enter 3rd nunnber:\"))\n",
        "if(num1>num2):\n",
        "  if(num2>num3):\n",
        "    print(\"num1 is greter\")\n",
        "  else:\n",
        "    print(\"num2 is greter\")\n",
        "else:\n",
        "  print(\"num3 is greter\")\n"
      ],
      "metadata": {
        "colab": {
          "base_uri": "https://localhost:8080/"
        },
        "id": "ZD8pwuEtYZ6_",
        "outputId": "83c754cd-d19b-4076-fe7e-f945680b0d32"
      },
      "execution_count": null,
      "outputs": [
        {
          "output_type": "stream",
          "name": "stdout",
          "text": [
            "enter 1st number:10\n",
            "enter 2nd number:11\n",
            "enter 3rd nunnber:12\n",
            "num3 is greter\n"
          ]
        }
      ]
    },
    {
      "cell_type": "markdown",
      "source": [
        "###**Question 5:** Write a Python program to calculate the factorial of a number."
      ],
      "metadata": {
        "id": "HIumowz2cdXL"
      }
    },
    {
      "cell_type": "code",
      "source": [
        "num=int(input(\"enter a number:\"))\n",
        "fact=1\n",
        "for i in range(1,num+1):\n",
        "  fact=fact*i\n",
        "print(fact)"
      ],
      "metadata": {
        "colab": {
          "base_uri": "https://localhost:8080/"
        },
        "id": "cgqpsJsDhgg4",
        "outputId": "a64407fd-d1e1-42ae-9276-4c8f34b2a456"
      },
      "execution_count": 13,
      "outputs": [
        {
          "output_type": "stream",
          "name": "stdout",
          "text": [
            "enter a number:4\n",
            "24\n"
          ]
        }
      ]
    },
    {
      "cell_type": "markdown",
      "source": [
        "## Variables and Data Types"
      ],
      "metadata": {
        "id": "UFc3PyjykZR9"
      }
    },
    {
      "cell_type": "markdown",
      "source": [
        "###**Question 7:** Write a Python program to swap the values of two variables."
      ],
      "metadata": {
        "id": "LhriQsbJklXs"
      }
    },
    {
      "cell_type": "code",
      "source": [
        "num1=12\n",
        "num2=10\n",
        "num3=num1\n",
        "num1=num2\n",
        "num2=num3\n",
        "print(\"after swap the number\",num1,num2)"
      ],
      "metadata": {
        "colab": {
          "base_uri": "https://localhost:8080/"
        },
        "id": "8zYjsPkRk2SU",
        "outputId": "33bacfed-5dfd-4b7e-dcec-12a40c3a8d2d"
      },
      "execution_count": 15,
      "outputs": [
        {
          "output_type": "stream",
          "name": "stdout",
          "text": [
            "after swap the number 10 12\n"
          ]
        }
      ]
    },
    {
      "cell_type": "markdown",
      "source": [
        "###**Question 8:** Write a Python program to convert Celsius to Fahrenheit."
      ],
      "metadata": {
        "id": "VzOoECqqljyk"
      }
    },
    {
      "cell_type": "code",
      "source": [
        "# Celsius to Fahrenheit Converter\n",
        "\n",
        "celsius = float(input(\"Enter temperature in Celsius: \"))\n",
        "fahrenheit = (celsius * 9/5) + 32\n",
        "\n",
        "print(f\"{celsius}°C is equal to {fahrenheit}°F\")\n"
      ],
      "metadata": {
        "colab": {
          "base_uri": "https://localhost:8080/"
        },
        "id": "eFDgtjRklqLj",
        "outputId": "d240fbce-e4c4-42d0-e813-898551b8708c"
      },
      "execution_count": 16,
      "outputs": [
        {
          "output_type": "stream",
          "name": "stdout",
          "text": [
            "Enter temperature in Celsius: 34\n",
            "34.0°C is equal to 93.2°F\n"
          ]
        }
      ]
    },
    {
      "cell_type": "markdown",
      "source": [
        "###**Question 9:** Write a Python program to concatenate two strings."
      ],
      "metadata": {
        "id": "-jJyVBrTog7Z"
      }
    },
    {
      "cell_type": "code",
      "source": [
        "str1=\"kiri Ranjan\"\n",
        "str2=\" \"\"Ghadei\"\n",
        "print(str1+str2)"
      ],
      "metadata": {
        "colab": {
          "base_uri": "https://localhost:8080/"
        },
        "id": "9M_4tlanoy-R",
        "outputId": "4f8eb782-e43c-4e71-df84-28e2bb46d9a3"
      },
      "execution_count": 19,
      "outputs": [
        {
          "output_type": "stream",
          "name": "stdout",
          "text": [
            "kiri Ranjan Ghadei\n"
          ]
        }
      ]
    },
    {
      "cell_type": "markdown",
      "source": [
        "###**Question 10:** Write a Python program to check if a variable is of a specific data type."
      ],
      "metadata": {
        "id": "Sg_lQ0aWpapI"
      }
    },
    {
      "cell_type": "code",
      "source": [
        "var=25\n",
        "print(type(var))\n",
        "print(isinstance(var,int))"
      ],
      "metadata": {
        "colab": {
          "base_uri": "https://localhost:8080/"
        },
        "id": "x7hboHAephLI",
        "outputId": "3b4ab0b6-944c-4b2d-f7d5-a4397e654c6d"
      },
      "execution_count": 23,
      "outputs": [
        {
          "output_type": "stream",
          "name": "stdout",
          "text": [
            "<class 'int'>\n",
            "True\n"
          ]
        }
      ]
    },
    {
      "cell_type": "markdown",
      "source": [
        "## 3. Basic Operators (Arithmetic, Comparison, Logical)\n"
      ],
      "metadata": {
        "id": "2MrqYmc2qlBI"
      }
    },
    {
      "cell_type": "markdown",
      "source": [
        "###**Question 11:** Write a Python program to perform arithmetic operations: addition, subtraction, multiplication, and division."
      ],
      "metadata": {
        "id": "BiCzidRvqnb3"
      }
    },
    {
      "cell_type": "code",
      "source": [
        "num1=int(input(\"enter 1st number:\"))\n",
        "num2=int(input(\"enter 2nd number:\"))\n",
        "print(num1+num2)\n",
        "print(num1-num2)\n",
        "print(num1*num2)\n",
        "print(num1/num2)"
      ],
      "metadata": {
        "colab": {
          "base_uri": "https://localhost:8080/"
        },
        "id": "nJq0f8qHqm2A",
        "outputId": "8a53b2ce-a209-48cf-9150-1e95853961a9"
      },
      "execution_count": 24,
      "outputs": [
        {
          "output_type": "stream",
          "name": "stdout",
          "text": [
            "enter 1st number:12\n",
            "enter 2nd number:12\n",
            "24\n",
            "0\n",
            "144\n",
            "1.0\n"
          ]
        }
      ]
    },
    {
      "cell_type": "markdown",
      "source": [
        "###**Question 12:** Write a Python program to demonstrate comparison operators: equal to, not equal to, greater than, less than."
      ],
      "metadata": {
        "id": "IrfeGXourHR_"
      }
    },
    {
      "cell_type": "code",
      "source": [
        "num1=int(input(\"enter 1st number:\"))\n",
        "num2=int(input(\"enter 2nd number:\"))\n",
        "print(num1==num2)\n",
        "print(num1!=num2)\n",
        "print(num1>num2)\n",
        "print(num1<num2)"
      ],
      "metadata": {
        "colab": {
          "base_uri": "https://localhost:8080/"
        },
        "id": "cBsxOj69rUq_",
        "outputId": "f7167dde-7eaa-4092-e0d2-6a6c2ea100aa"
      },
      "execution_count": 25,
      "outputs": [
        {
          "output_type": "stream",
          "name": "stdout",
          "text": [
            "enter 1st number:10\n",
            "enter 2nd number:12\n",
            "False\n",
            "True\n",
            "False\n",
            "True\n"
          ]
        }
      ]
    },
    {
      "cell_type": "markdown",
      "source": [
        "###**Question 13:** Write a Python program to demonstrate logical operators: and, or, not."
      ],
      "metadata": {
        "id": "iXpZ3GhjrywW"
      }
    },
    {
      "cell_type": "code",
      "source": [
        "num1=int(input(\"enter 1st number:\"))\n",
        "num2=int(input(\"enter 2nd number:\"))\n",
        "print(num1>num2 and num1==num2)\n",
        "print(num1>num2 or num1==num2)"
      ],
      "metadata": {
        "colab": {
          "base_uri": "https://localhost:8080/"
        },
        "id": "Oyf6mbpGr9-2",
        "outputId": "6041d49e-a024-40ae-f91f-ecb6bf7ff345"
      },
      "execution_count": 26,
      "outputs": [
        {
          "output_type": "stream",
          "name": "stdout",
          "text": [
            "enter 1st number:23\n",
            "enter 2nd number:45\n",
            "False\n",
            "False\n"
          ]
        }
      ]
    },
    {
      "cell_type": "markdown",
      "source": [
        "###**Question 14:** Write a Python program to calculate the square of a number."
      ],
      "metadata": {
        "id": "oa7cOUAFsIXG"
      }
    },
    {
      "cell_type": "code",
      "source": [
        "num=int(input(\"enter a number:\"))\n",
        "print(num**2)"
      ],
      "metadata": {
        "colab": {
          "base_uri": "https://localhost:8080/"
        },
        "id": "2jC-CngnsHAv",
        "outputId": "656cbfb5-dbd3-4246-92db-4cf2b669951d"
      },
      "execution_count": 27,
      "outputs": [
        {
          "output_type": "stream",
          "name": "stdout",
          "text": [
            "enter a number:2\n",
            "4\n"
          ]
        }
      ]
    },
    {
      "cell_type": "markdown",
      "source": [
        "###**Question 15:** Write a Python program to check if a number is even or odd."
      ],
      "metadata": {
        "id": "HjmJrA0ZtBgu"
      }
    },
    {
      "cell_type": "code",
      "source": [
        "num=int(input(\"enter a number:\"))\n",
        "if (num%2==0):\n",
        "  print(\"number is even\")\n",
        "else:\n",
        "  print(\"number is odd\")"
      ],
      "metadata": {
        "colab": {
          "base_uri": "https://localhost:8080/"
        },
        "id": "PUjTpGWItDqt",
        "outputId": "5eede24c-1313-4e54-85fc-5a801abf10cd"
      },
      "execution_count": 30,
      "outputs": [
        {
          "output_type": "stream",
          "name": "stdout",
          "text": [
            "enter a number:67\n",
            "number is odd\n"
          ]
        }
      ]
    },
    {
      "cell_type": "markdown",
      "source": [
        "###**Question 16:** Write a Python program to find the sum of the first n natural numbers."
      ],
      "metadata": {
        "id": "s-WjCrBHtn9F"
      }
    },
    {
      "cell_type": "code",
      "source": [
        "num=int(input(\"enter a number:\"))\n",
        "sum=0\n",
        "for i in range(1,num+1):\n",
        "  sum=sum+i\n",
        "print(sum)"
      ],
      "metadata": {
        "colab": {
          "base_uri": "https://localhost:8080/"
        },
        "id": "blNccWLVtvF1",
        "outputId": "0d009aaf-f279-4d31-f476-04231fe6ba4d"
      },
      "execution_count": 31,
      "outputs": [
        {
          "output_type": "stream",
          "name": "stdout",
          "text": [
            "enter a number:23\n",
            "276\n"
          ]
        }
      ]
    },
    {
      "cell_type": "markdown",
      "source": [
        "###**Question 17:** Write a Python program to check if a year is a leap year."
      ],
      "metadata": {
        "id": "tnadr27kt6bl"
      }
    },
    {
      "cell_type": "code",
      "source": [
        "year=int(input(\"enter a year:\"))\n",
        "if (year%4==0):\n",
        "  print(\"year is leap year\")\n",
        "else:\n",
        "  print(\"year is not leap year\")"
      ],
      "metadata": {
        "colab": {
          "base_uri": "https://localhost:8080/"
        },
        "id": "lfQYsMvHuF5F",
        "outputId": "13ecc3a1-3827-4f1e-f0f1-42e1aa0a76f8"
      },
      "execution_count": 35,
      "outputs": [
        {
          "output_type": "stream",
          "name": "stdout",
          "text": [
            "enter a year:2022\n",
            "year is not leap year\n"
          ]
        }
      ]
    },
    {
      "cell_type": "markdown",
      "source": [
        "###**Question 18:** Write a Python program to reverse a string."
      ],
      "metadata": {
        "id": "Sux647B5uagl"
      }
    },
    {
      "cell_type": "code",
      "source": [
        "str=input(\"enter a string:\")\n",
        "print(str[::-1])"
      ],
      "metadata": {
        "colab": {
          "base_uri": "https://localhost:8080/"
        },
        "id": "TRk7twyr0M2o",
        "outputId": "b43bed6a-8471-4c2b-8d98-7e75f94ff9ab"
      },
      "execution_count": 36,
      "outputs": [
        {
          "output_type": "stream",
          "name": "stdout",
          "text": [
            "enter a string:kirti\n",
            "itrik\n"
          ]
        }
      ]
    },
    {
      "cell_type": "markdown",
      "source": [
        "###**Question 19:** Write a Python program to check if a string is a palindrome."
      ],
      "metadata": {
        "id": "pgii0IKH0-zg"
      }
    },
    {
      "cell_type": "code",
      "source": [
        "str=input(\"enter a string:\")\n",
        "if (str==str[::-1]):\n",
        "  print(\"string is palindrome\")\n",
        "else:\n",
        "  print(\"string is not palindrome\")"
      ],
      "metadata": {
        "colab": {
          "base_uri": "https://localhost:8080/"
        },
        "id": "pqUlSCWP1Enn",
        "outputId": "46b05eb8-5f9c-4ff2-bf0f-06cd81f96b8d"
      },
      "execution_count": 38,
      "outputs": [
        {
          "output_type": "stream",
          "name": "stdout",
          "text": [
            "enter a string:Mom\n",
            "string is not palindrome\n"
          ]
        }
      ]
    },
    {
      "cell_type": "markdown",
      "source": [
        "###**Question 20:** Write a Python program to sort a list of numbers in ascending order."
      ],
      "metadata": {
        "id": "pabemrS81Y8f"
      }
    },
    {
      "cell_type": "code",
      "source": [
        "list=[1,2,3,4,5]\n",
        "list.sort()\n",
        "print(list)"
      ],
      "metadata": {
        "colab": {
          "base_uri": "https://localhost:8080/"
        },
        "id": "7w92il4l1hW3",
        "outputId": "76d46a98-65b9-4269-d22d-21acbd6bd8c0"
      },
      "execution_count": 39,
      "outputs": [
        {
          "output_type": "stream",
          "name": "stdout",
          "text": [
            "[1, 2, 3, 4, 5]\n"
          ]
        }
      ]
    }
  ]
}